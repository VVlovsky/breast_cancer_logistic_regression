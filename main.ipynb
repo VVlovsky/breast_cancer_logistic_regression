{
  "nbformat": 4,
  "nbformat_minor": 0,
  "metadata": {
    "colab": {
      "name": "Copy of main.ipynb",
      "provenance": [],
      "collapsed_sections": [],
      "include_colab_link": true
    },
    "kernelspec": {
      "name": "python3",
      "display_name": "Python 3"
    }
  },
  "cells": [
    {
      "cell_type": "markdown",
      "metadata": {
        "id": "view-in-github",
        "colab_type": "text"
      },
      "source": [
        "<a href=\"https://colab.research.google.com/github/VVlovsky/breast_cancer_logistic_regression/blob/main/main.ipynb\" target=\"_parent\"><img src=\"https://colab.research.google.com/assets/colab-badge.svg\" alt=\"Open In Colab\"/></a>"
      ]
    },
    {
      "cell_type": "code",
      "metadata": {
        "id": "ZwEdh2xqD9Xe"
      },
      "source": [
        "import os\n",
        "import pandas as pd\n",
        "import numpy as np\n",
        "from sklearn.linear_model import LogisticRegression\n",
        "from sklearn.model_selection import train_test_split\n",
        "from sklearn.metrics import confusion_matrix\n",
        "import seaborn as sn\n",
        "import matplotlib.pyplot as plt\n",
        "\n",
        "\n",
        "\n",
        "if not os.path.exists('./breast-cancer.data'):\n",
        "  !wget https://archive.ics.uci.edu/ml/machine-learning-databases/breast-cancer/breast-cancer.data\n",
        "if not os.path.exists('./breast-cancer.names'):\n",
        "  !wget https://archive.ics.uci.edu/ml/machine-learning-databases/breast-cancer/breast-cancer.names"
      ],
      "execution_count": 546,
      "outputs": []
    },
    {
      "cell_type": "code",
      "metadata": {
        "colab": {
          "base_uri": "https://localhost:8080/"
        },
        "id": "BnWJKBxmo_Pj",
        "outputId": "9eaf7785-5f85-44e0-b244-a1611820d24d"
      },
      "source": [
        "!cat './breast-cancer.names'"
      ],
      "execution_count": 547,
      "outputs": [
        {
          "output_type": "stream",
          "text": [
            "Citation Request:\n",
            "   This breast cancer domain was obtained from the University Medical Centre,\n",
            "   Institute of Oncology, Ljubljana, Yugoslavia.  Thanks go to M. Zwitter and \n",
            "   M. Soklic for providing the data.  Please include this citation if you plan\n",
            "   to use this database.\n",
            "\n",
            "1. Title: Breast cancer data (Michalski has used this)\n",
            "\n",
            "2. Sources: \n",
            "   -- Matjaz Zwitter & Milan Soklic (physicians)\n",
            "      Institute of Oncology \n",
            "      University Medical Center\n",
            "      Ljubljana, Yugoslavia\n",
            "   -- Donors: Ming Tan and Jeff Schlimmer (Jeffrey.Schlimmer@a.gp.cs.cmu.edu)\n",
            "   -- Date: 11 July 1988\n",
            "\n",
            "3. Past Usage: (Several: here are some)\n",
            "     -- Michalski,R.S., Mozetic,I., Hong,J., & Lavrac,N. (1986). The \n",
            "        Multi-Purpose Incremental Learning System AQ15 and its Testing \n",
            "        Application to Three Medical Domains.  In Proceedings of the \n",
            "        Fifth National Conference on Artificial Intelligence, 1041-1045,\n",
            "        Philadelphia, PA: Morgan Kaufmann.\n",
            "        -- accuracy range: 66%-72%\n",
            "     -- Clark,P. & Niblett,T. (1987). Induction in Noisy Domains.  In \n",
            "        Progress in Machine Learning (from the Proceedings of the 2nd\n",
            "        European Working Session on Learning), 11-30, Bled, \n",
            "        Yugoslavia: Sigma Press.\n",
            "        -- 8 test results given: 65%-72% accuracy range\n",
            "     -- Tan, M., & Eshelman, L. (1988). Using weighted networks to \n",
            "        represent classification knowledge in noisy domains.  Proceedings \n",
            "        of the Fifth International Conference on Machine Learning, 121-134,\n",
            "        Ann Arbor, MI.\n",
            "        -- 4 systems tested: accuracy range was 68%-73.5%\n",
            "    -- Cestnik,G., Konenenko,I, & Bratko,I. (1987). Assistant-86: A\n",
            "       Knowledge-Elicitation Tool for Sophisticated Users.  In I.Bratko\n",
            "       & N.Lavrac (Eds.) Progress in Machine Learning, 31-45, Sigma Press.\n",
            "       -- Assistant-86: 78% accuracy\n",
            "\n",
            "4. Relevant Information:\n",
            "     This is one of three domains provided by the Oncology Institute\n",
            "     that has repeatedly appeared in the machine learning literature.\n",
            "     (See also lymphography and primary-tumor.)\n",
            "\n",
            "     This data set includes 201 instances of one class and 85 instances of\n",
            "     another class.  The instances are described by 9 attributes, some of\n",
            "     which are linear and some are nominal.\n",
            "\n",
            "5. Number of Instances: 286\n",
            "\n",
            "6. Number of Attributes: 9 + the class attribute\n",
            "\n",
            "7. Attribute Information:\n",
            "   1. Class: no-recurrence-events, recurrence-events\n",
            "   2. age: 10-19, 20-29, 30-39, 40-49, 50-59, 60-69, 70-79, 80-89, 90-99.\n",
            "   3. menopause: lt40, ge40, premeno.\n",
            "   4. tumor-size: 0-4, 5-9, 10-14, 15-19, 20-24, 25-29, 30-34, 35-39, 40-44,\n",
            "                  45-49, 50-54, 55-59.\n",
            "   5. inv-nodes: 0-2, 3-5, 6-8, 9-11, 12-14, 15-17, 18-20, 21-23, 24-26,\n",
            "                 27-29, 30-32, 33-35, 36-39.\n",
            "   6. node-caps: yes, no.\n",
            "   7. deg-malig: 1, 2, 3.\n",
            "   8. breast: left, right.\n",
            "   9. breast-quad: left-up, left-low, right-up,\tright-low, central.\n",
            "  10. irradiat:\tyes, no.\n",
            "\n",
            "8. Missing Attribute Values: (denoted by \"?\")\n",
            "   Attribute #:  Number of instances with missing values:\n",
            "   6.             8\n",
            "   9.             1.\n",
            "\n",
            "9. Class Distribution:\n",
            "    1. no-recurrence-events: 201 instances\n",
            "    2. recurrence-events: 85 instances"
          ],
          "name": "stdout"
        }
      ]
    },
    {
      "cell_type": "code",
      "metadata": {
        "colab": {
          "base_uri": "https://localhost:8080/",
          "height": 204
        },
        "id": "Zz92FVCtnyG1",
        "outputId": "d268cb6d-7064-4cf4-d137-3a1e11d71aea"
      },
      "source": [
        "raw_data = pd.read_csv('./breast-cancer.data', names=['class', 'age', 'menopause', 'tumor_size', 'inv_nodes', 'node_caps', 'deg_malig', 'breast', 'breast_quad', 'irradiat']).sample(frac=1)\n",
        "raw_data.head()"
      ],
      "execution_count": 548,
      "outputs": [
        {
          "output_type": "execute_result",
          "data": {
            "text/html": [
              "<div>\n",
              "<style scoped>\n",
              "    .dataframe tbody tr th:only-of-type {\n",
              "        vertical-align: middle;\n",
              "    }\n",
              "\n",
              "    .dataframe tbody tr th {\n",
              "        vertical-align: top;\n",
              "    }\n",
              "\n",
              "    .dataframe thead th {\n",
              "        text-align: right;\n",
              "    }\n",
              "</style>\n",
              "<table border=\"1\" class=\"dataframe\">\n",
              "  <thead>\n",
              "    <tr style=\"text-align: right;\">\n",
              "      <th></th>\n",
              "      <th>class</th>\n",
              "      <th>age</th>\n",
              "      <th>menopause</th>\n",
              "      <th>tumor_size</th>\n",
              "      <th>inv_nodes</th>\n",
              "      <th>node_caps</th>\n",
              "      <th>deg_malig</th>\n",
              "      <th>breast</th>\n",
              "      <th>breast_quad</th>\n",
              "      <th>irradiat</th>\n",
              "    </tr>\n",
              "  </thead>\n",
              "  <tbody>\n",
              "    <tr>\n",
              "      <th>117</th>\n",
              "      <td>no-recurrence-events</td>\n",
              "      <td>40-49</td>\n",
              "      <td>ge40</td>\n",
              "      <td>20-24</td>\n",
              "      <td>0-2</td>\n",
              "      <td>no</td>\n",
              "      <td>3</td>\n",
              "      <td>left</td>\n",
              "      <td>left_up</td>\n",
              "      <td>no</td>\n",
              "    </tr>\n",
              "    <tr>\n",
              "      <th>105</th>\n",
              "      <td>no-recurrence-events</td>\n",
              "      <td>40-49</td>\n",
              "      <td>premeno</td>\n",
              "      <td>30-34</td>\n",
              "      <td>0-2</td>\n",
              "      <td>no</td>\n",
              "      <td>1</td>\n",
              "      <td>right</td>\n",
              "      <td>left_up</td>\n",
              "      <td>no</td>\n",
              "    </tr>\n",
              "    <tr>\n",
              "      <th>5</th>\n",
              "      <td>no-recurrence-events</td>\n",
              "      <td>60-69</td>\n",
              "      <td>ge40</td>\n",
              "      <td>15-19</td>\n",
              "      <td>0-2</td>\n",
              "      <td>no</td>\n",
              "      <td>2</td>\n",
              "      <td>left</td>\n",
              "      <td>left_low</td>\n",
              "      <td>no</td>\n",
              "    </tr>\n",
              "    <tr>\n",
              "      <th>99</th>\n",
              "      <td>no-recurrence-events</td>\n",
              "      <td>30-39</td>\n",
              "      <td>premeno</td>\n",
              "      <td>25-29</td>\n",
              "      <td>0-2</td>\n",
              "      <td>no</td>\n",
              "      <td>2</td>\n",
              "      <td>left</td>\n",
              "      <td>left_low</td>\n",
              "      <td>no</td>\n",
              "    </tr>\n",
              "    <tr>\n",
              "      <th>71</th>\n",
              "      <td>no-recurrence-events</td>\n",
              "      <td>40-49</td>\n",
              "      <td>premeno</td>\n",
              "      <td>25-29</td>\n",
              "      <td>0-2</td>\n",
              "      <td>no</td>\n",
              "      <td>2</td>\n",
              "      <td>right</td>\n",
              "      <td>left_up</td>\n",
              "      <td>no</td>\n",
              "    </tr>\n",
              "  </tbody>\n",
              "</table>\n",
              "</div>"
            ],
            "text/plain": [
              "                    class    age menopause  ... breast breast_quad irradiat\n",
              "117  no-recurrence-events  40-49      ge40  ...   left     left_up       no\n",
              "105  no-recurrence-events  40-49   premeno  ...  right     left_up       no\n",
              "5    no-recurrence-events  60-69      ge40  ...   left    left_low       no\n",
              "99   no-recurrence-events  30-39   premeno  ...   left    left_low       no\n",
              "71   no-recurrence-events  40-49   premeno  ...  right     left_up       no\n",
              "\n",
              "[5 rows x 10 columns]"
            ]
          },
          "metadata": {
            "tags": []
          },
          "execution_count": 548
        }
      ]
    },
    {
      "cell_type": "code",
      "metadata": {
        "colab": {
          "base_uri": "https://localhost:8080/",
          "height": 204
        },
        "id": "G3H99ZvduOuT",
        "outputId": "c1cb8cef-11ef-40d3-f71d-3eefe791fe73"
      },
      "source": [
        "\n",
        "dummies = pd.get_dummies(raw_data.menopause)\n",
        "data = raw_data.join(dummies)\n",
        "data = data.drop('menopause', axis=1)\n",
        "\n",
        "dummies = pd.get_dummies(data.breast_quad)\n",
        "data = data.join(dummies)\n",
        "data = data.drop('breast_quad', axis=1)\n",
        "data = data.drop('?', axis=1)\n",
        "\n",
        "data.node_caps = (data.node_caps == 'yes').astype(int)\n",
        "data.irradiat = (data.irradiat == 'yes').astype(int)\n",
        "data['class'] = (data['class'] == 'recurrence-events').astype(int)\n",
        "data.breast = (data.breast == 'left').astype(int) run with an accuracy of 91.3%. Changing the solver had a minor effect on accuracy\n",
        "\n",
        "data.age = data.age.map(lambda x: np.mean([int(x.split('-')[0]), int(x.split('-')[1])]))\n",
        "data.tumor_size = data.tumor_size.map(lambda x: np.mean([int(x.split('-')[0]), int(x.split('-')[1])]))\n",
        "data.inv_nodes = data.inv_nodes.map(lambda x: np.mean([int(x.split('-')[0]), int(x.split('-')[1])]))\n",
        "\n",
        "data = data.apply(lambda x: (x - x.min()) / ( x.max() - x.min()), axis=0)\n",
        "\n",
        "data.head()"
      ],
      "execution_count": 549,
      "outputs": [
        {
          "output_type": "execute_result",
          "data": {
            "text/html": [
              "<div>\n",
              "<style scoped>\n",
              "    .dataframe tbody tr th:only-of-type {\n",
              "        vertical-align: middle;\n",
              "    }\n",
              "\n",
              "    .dataframe tbody tr th {\n",
              "        vertical-align: top;\n",
              "    }\n",
              "\n",
              "    .dataframe thead th {\n",
              "        text-align: right;\n",
              "    }\n",
              "</style>\n",
              "<table border=\"1\" class=\"dataframe\">\n",
              "  <thead>\n",
              "    <tr style=\"text-align: right;\">\n",
              "      <th></th>\n",
              "      <th>class</th>\n",
              "      <th>age</th>\n",
              "      <th>tumor_size</th>\n",
              "      <th>inv_nodes</th>\n",
              "      <th>node_caps</th>\n",
              "      <th>deg_malig</th>\n",
              "      <th>breast</th>\n",
              "      <th>irradiat</th>\n",
              "      <th>ge40</th>\n",
              "      <th>lt40</th>\n",
              "      <th>premeno</th>\n",
              "      <th>central</th>\n",
              "      <th>left_low</th>\n",
              "      <th>left_up</th>\n",
              "      <th>right_low</th>\n",
              "      <th>right_up</th>\n",
              "    </tr>\n",
              "  </thead>\n",
              "  <tbody>\n",
              "    <tr>\n",
              "      <th>117</th>\n",
              "      <td>0.0</td>\n",
              "      <td>0.4</td>\n",
              "      <td>0.4</td>\n",
              "      <td>0.0</td>\n",
              "      <td>0.0</td>\n",
              "      <td>1.0</td>\n",
              "      <td>1.0</td>\n",
              "      <td>0.0</td>\n",
              "      <td>1.0</td>\n",
              "      <td>0.0</td>\n",
              "      <td>0.0</td>\n",
              "      <td>0.0</td>\n",
              "      <td>0.0</td>\n",
              "      <td>1.0</td>\n",
              "      <td>0.0</td>\n",
              "      <td>0.0</td>\n",
              "    </tr>\n",
              "    <tr>\n",
              "      <th>105</th>\n",
              "      <td>0.0</td>\n",
              "      <td>0.4</td>\n",
              "      <td>0.6</td>\n",
              "      <td>0.0</td>\n",
              "      <td>0.0</td>\n",
              "      <td>0.0</td>\n",
              "      <td>0.0</td>\n",
              "      <td>0.0</td>\n",
              "      <td>0.0</td>\n",
              "      <td>0.0</td>\n",
              "      <td>1.0</td>\n",
              "      <td>0.0</td>\n",
              "      <td>0.0</td>\n",
              "      <td>1.0</td>\n",
              "      <td>0.0</td>\n",
              "      <td>0.0</td>\n",
              "    </tr>\n",
              "    <tr>\n",
              "      <th>5</th>\n",
              "      <td>0.0</td>\n",
              "      <td>0.8</td>\n",
              "      <td>0.3</td>\n",
              "      <td>0.0</td>\n",
              "      <td>0.0</td>\n",
              "      <td>0.5</td>\n",
              "      <td>1.0</td>\n",
              "      <td>0.0</td>\n",
              "      <td>1.0</td>\n",
              "      <td>0.0</td>\n",
              "      <td>0.0</td>\n",
              "      <td>0.0</td>\n",
              "      <td>1.0</td>\n",
              "      <td>0.0</td>\n",
              "      <td>0.0</td>\n",
              "      <td>0.0</td>\n",
              "    </tr>\n",
              "    <tr>\n",
              "      <th>99</th>\n",
              "      <td>0.0</td>\n",
              "      <td>0.2</td>\n",
              "      <td>0.5</td>\n",
              "      <td>0.0</td>\n",
              "      <td>0.0</td>\n",
              "      <td>0.5</td>\n",
              "      <td>1.0</td>\n",
              "      <td>0.0</td>\n",
              "      <td>0.0</td>\n",
              "      <td>0.0</td>\n",
              "      <td>1.0</td>\n",
              "      <td>0.0</td>\n",
              "      <td>1.0</td>\n",
              "      <td>0.0</td>\n",
              "      <td>0.0</td>\n",
              "      <td>0.0</td>\n",
              "    </tr>\n",
              "    <tr>\n",
              "      <th>71</th>\n",
              "      <td>0.0</td>\n",
              "      <td>0.4</td>\n",
              "      <td>0.5</td>\n",
              "      <td>0.0</td>\n",
              "      <td>0.0</td>\n",
              "      <td>0.5</td>\n",
              "      <td>0.0</td>\n",
              "      <td>0.0</td>\n",
              "      <td>0.0</td>\n",
              "      <td>0.0</td>\n",
              "      <td>1.0</td>\n",
              "      <td>0.0</td>\n",
              "      <td>0.0</td>\n",
              "      <td>1.0</td>\n",
              "      <td>0.0</td>\n",
              "      <td>0.0</td>\n",
              "    </tr>\n",
              "  </tbody>\n",
              "</table>\n",
              "</div>"
            ],
            "text/plain": [
              "     class  age  tumor_size  inv_nodes  ...  left_low  left_up  right_low  right_up\n",
              "117    0.0  0.4         0.4        0.0  ...       0.0      1.0        0.0       0.0\n",
              "105    0.0  0.4         0.6        0.0  ...       0.0      1.0        0.0       0.0\n",
              "5      0.0  0.8         0.3        0.0  ...       1.0      0.0        0.0       0.0\n",
              "99     0.0  0.2         0.5        0.0  ...       1.0      0.0        0.0       0.0\n",
              "71     0.0  0.4         0.5        0.0  ...       0.0      1.0        0.0       0.0\n",
              "\n",
              "[5 rows x 16 columns]"
            ]
          },
          "metadata": {
            "tags": []
          },
          "execution_count": 549
        }
      ]
    },
    {
      "cell_type": "code",
      "metadata": {
        "id": "PbjdEIhg3hcS"
      },
      "source": [
        "y = np.asarray(data['class'].values)\n",
        "x = np.asarray(data.drop('class', axis=1).values)"
      ],
      "execution_count": 550,
      "outputs": []
    },
    {
      "cell_type": "code",
      "metadata": {
        "colab": {
          "base_uri": "https://localhost:8080/"
        },
        "id": "xPfYwbUS4SyV",
        "outputId": "8e042206-c780-4801-c053-39ac52862d22"
      },
      "source": [
        "\n",
        "x_train, x_test, y_train, y_test = train_test_split(x, y, test_size = 0.2, random_state = 0)\n",
        "clf = LogisticRegression(penalty='l2',\n",
        "                         max_iter=int(1e6),\n",
        "                         warm_start=True,\n",
        "                         intercept_scaling=10000.)\n",
        "clf.fit(x_train, y_train)\n",
        "clf.score(x_test, y_test)"
      ],
      "execution_count": 551,
      "outputs": [
        {
          "output_type": "execute_result",
          "data": {
            "text/plain": [
              "0.7931034482758621"
            ]
          },
          "metadata": {
            "tags": []
          },
          "execution_count": 551
        }
      ]
    },
    {
      "cell_type": "code",
      "metadata": {
        "colab": {
          "base_uri": "https://localhost:8080/",
          "height": 265
        },
        "id": "TpwwjqkY8gwi",
        "outputId": "7d45bdd7-c7b4-4d24-ecdb-e66f5edf14dd"
      },
      "source": [
        "y_pred = clf.predict(x_test)\n",
        "cm = confusion_matrix(y_test, y_pred)\n",
        "sn.heatmap(cm, annot=True, annot_kws={\"size\": 18})\n",
        "plt.show()"
      ],
      "execution_count": 553,
      "outputs": [
        {
          "output_type": "display_data",
          "data": {
            "image/png": "[encoded data removed]",
            "text/plain": [
              "<Figure size 432x288 with 2 Axes>"
            ]
          },
          "metadata": {
            "tags": [],
            "needs_background": "light"
          }
        }
      ]
    }
  ]
}